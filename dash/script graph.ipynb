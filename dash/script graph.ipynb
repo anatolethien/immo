{
 "cells": [
  {
   "cell_type": "code",
   "execution_count": 20,
   "id": "ad870fe0-d12a-426b-8a50-78ed58834568",
   "metadata": {
    "collapsed": true,
    "jupyter": {
     "outputs_hidden": true,
     "source_hidden": true
    },
    "tags": []
   },
   "outputs": [
    {
     "name": "stderr",
     "output_type": "stream",
     "text": [
      "C:\\Users\\maxen\\anaconda3\\Lib\\site-packages\\_plotly_utils\\basevalidators.py:106: FutureWarning:\n",
      "\n",
      "The behavior of DatetimeProperties.to_pydatetime is deprecated, in a future version this will return a Series containing python datetime objects instead of an ndarray. To retain the old behavior, call `np.array` on the result\n",
      "\n"
     ]
    },
    {
     "data": {
      "text/html": [
       "\n",
       "        <iframe\n",
       "            width=\"100%\"\n",
       "            height=\"650\"\n",
       "            src=\"http://127.0.0.1:8050/\"\n",
       "            frameborder=\"0\"\n",
       "            allowfullscreen\n",
       "            \n",
       "        ></iframe>\n",
       "        "
      ],
      "text/plain": [
       "<IPython.lib.display.IFrame at 0x289803f0710>"
      ]
     },
     "metadata": {},
     "output_type": "display_data"
    }
   ],
   "source": [
    "from dash import Dash, html, dcc\n",
    "import pandas as pd\n",
    "import plotly.express as px\n",
    "\n",
    "# Load your data\n",
    "df = pd.read_csv('../data/dvf.csv')\n",
    "\n",
    "# Convert 'date_mutation' to datetime and 'valeur_fonciere' to float\n",
    "df['date_mutation'] = pd.to_datetime(df['date_mutation'])\n",
    "df['valeur_fonciere'] = pd.to_numeric(df['valeur_fonciere'], errors='coerce')\n",
    "\n",
    "# Initialize the Dash app\n",
    "app = Dash(__name__)\n",
    "\n",
    "# Define the app layout\n",
    "app.layout = html.Div(children=[\n",
    "    html.H1(children='Analyse de la Valeur Foncière des Transactions Immobilières'),\n",
    "\n",
    "    dcc.Graph(\n",
    "        id='estimated-value-over-time',\n",
    "        figure=px.line(df.groupby('date_mutation')['valeur_fonciere'].mean().reset_index(), x='date_mutation', y='valeur_fonciere', title='Valeur Foncière Moyenne au Fil du Temps')\n",
    "    ),\n",
    "\n",
    "    dcc.Graph(\n",
    "        id='estimated-value-by-commune',\n",
    "        figure=px.bar(df.groupby('nom_commune')['valeur_fonciere'].mean().reset_index(), x='nom_commune', y='valeur_fonciere', title='Valeur Foncière Moyenne par Commune')\n",
    "    )\n",
    "])\n",
    "\n",
    "# Run the app\n",
    "if __name__ == '__main__':\n",
    "    app.run_server(debug=True)\n"
   ]
  },
  {
   "cell_type": "code",
   "execution_count": 20,
   "id": "c908c257-5420-481c-872a-4cd6ddb5ac27",
   "metadata": {
    "collapsed": true,
    "jupyter": {
     "outputs_hidden": true,
     "source_hidden": true
    },
    "tags": []
   },
   "outputs": [
    {
     "name": "stderr",
     "output_type": "stream",
     "text": [
      "C:\\Users\\maxen\\anaconda3\\Lib\\site-packages\\_plotly_utils\\basevalidators.py:106: FutureWarning:\n",
      "\n",
      "The behavior of DatetimeProperties.to_pydatetime is deprecated, in a future version this will return a Series containing python datetime objects instead of an ndarray. To retain the old behavior, call `np.array` on the result\n",
      "\n"
     ]
    },
    {
     "data": {
      "text/html": [
       "\n",
       "        <iframe\n",
       "            width=\"100%\"\n",
       "            height=\"650\"\n",
       "            src=\"http://127.0.0.1:8050/\"\n",
       "            frameborder=\"0\"\n",
       "            allowfullscreen\n",
       "            \n",
       "        ></iframe>\n",
       "        "
      ],
      "text/plain": [
       "<IPython.lib.display.IFrame at 0x21411630c50>"
      ]
     },
     "metadata": {},
     "output_type": "display_data"
    }
   ],
   "source": [
    "from dash import Dash, html, dcc\n",
    "import pandas as pd\n",
    "import plotly.express as px\n",
    "\n",
    "# Load your data\n",
    "df = pd.read_csv('../data/dvf.csv')\n",
    "\n",
    "# Convert 'date_mutation' to datetime and 'valeur_fonciere' to float\n",
    "df['date_mutation'] = pd.to_datetime(df['date_mutation'])\n",
    "df['valeur_fonciere'] = pd.to_numeric(df['valeur_fonciere'], errors='coerce')\n",
    "\n",
    "# Initialize the Dash app\n",
    "app = Dash(__name__)\n",
    "\n",
    "# Define the app layout\n",
    "app.layout = html.Div(children=[\n",
    "    html.H1(children='Analyse de la Valeur Foncière des Transactions Immobilières'),\n",
    "\n",
    "    dcc.Graph(\n",
    "        id='estimated-value-over-time',\n",
    "        figure=px.line(df.groupby('date_mutation')['valeur_fonciere'].mean().reset_index(), x='date_mutation', y='valeur_fonciere', title='Valeur Foncière Moyenne au Fil du Temps')\n",
    "    ),\n",
    "\n",
    "    dcc.Graph(\n",
    "        id='estimated-value-by-commune',\n",
    "        figure=px.bar(df.groupby('nom_commune')['valeur_fonciere'].mean().reset_index(), x='valeur_fonciere', y='nom_commune', orientation='h', title='Valeur Foncière Moyenne par Commune')\n",
    "            .update_layout(height=1000)  # Increase the height of the bar chart\n",
    "    )\n",
    "])\n",
    "\n",
    "# Run the app\n",
    "if __name__ == '__main__':\n",
    "    app.run_server(debug=True)\n"
   ]
  },
  {
   "cell_type": "code",
   "execution_count": 25,
   "id": "770a0c0d-ed44-41bc-9b4c-933d0319dbb8",
   "metadata": {
    "collapsed": true,
    "jupyter": {
     "outputs_hidden": true,
     "source_hidden": true
    },
    "tags": []
   },
   "outputs": [
    {
     "name": "stderr",
     "output_type": "stream",
     "text": [
      "C:\\Users\\maxen\\anaconda3\\Lib\\site-packages\\_plotly_utils\\basevalidators.py:106: FutureWarning:\n",
      "\n",
      "The behavior of DatetimeProperties.to_pydatetime is deprecated, in a future version this will return a Series containing python datetime objects instead of an ndarray. To retain the old behavior, call `np.array` on the result\n",
      "\n",
      "C:\\Users\\maxen\\anaconda3\\Lib\\site-packages\\_plotly_utils\\basevalidators.py:106: FutureWarning:\n",
      "\n",
      "The behavior of DatetimeProperties.to_pydatetime is deprecated, in a future version this will return a Series containing python datetime objects instead of an ndarray. To retain the old behavior, call `np.array` on the result\n",
      "\n"
     ]
    },
    {
     "data": {
      "text/html": [
       "\n",
       "        <iframe\n",
       "            width=\"100%\"\n",
       "            height=\"650\"\n",
       "            src=\"http://127.0.0.1:8050/\"\n",
       "            frameborder=\"0\"\n",
       "            allowfullscreen\n",
       "            \n",
       "        ></iframe>\n",
       "        "
      ],
      "text/plain": [
       "<IPython.lib.display.IFrame at 0x289eeaa0050>"
      ]
     },
     "metadata": {},
     "output_type": "display_data"
    }
   ],
   "source": [
    "from dash import Dash, html, dcc\n",
    "import pandas as pd\n",
    "import plotly.express as px\n",
    "\n",
    "# Load your data\n",
    "df = pd.read_csv('../data/dvf.csv')\n",
    "\n",
    "# Convert 'date_mutation' to datetime and 'valeur_fonciere' to float\n",
    "df['date_mutation'] = pd.to_datetime(df['date_mutation'])\n",
    "df['valeur_fonciere'] = pd.to_numeric(df['valeur_fonciere'], errors='coerce')\n",
    "\n",
    "# Filter data for 2022 and 2023\n",
    "filtered_df = df[(df['date_mutation'].dt.year == 2022) | (df['date_mutation'].dt.year == 2023)]\n",
    "\n",
    "# Initialize the Dash app\n",
    "app = Dash(__name__)\n",
    "\n",
    "# Define the app layout\n",
    "app.layout = html.Div(children=[\n",
    "    html.H1(children='Analyse de la Valeur Foncière des Transactions Immobilières'),\n",
    "\n",
    "    dcc.Graph(\n",
    "        id='estimated-value-over-time',\n",
    "        figure=px.line(df.groupby('date_mutation')['valeur_fonciere'].mean().reset_index(), x='date_mutation', y='valeur_fonciere', title='Valeur Foncière Moyenne au Fil du Temps')\n",
    "    ),\n",
    "\n",
    "    dcc.Graph(\n",
    "        id='estimated-value-by-commune',\n",
    "        figure=px.bar(df.groupby('nom_commune')['valeur_fonciere'].mean().reset_index(), x='nom_commune', y='valeur_fonciere', title='Valeur Foncière Moyenne par Commune')\n",
    "    ),\n",
    "    \n",
    "    dcc.Graph(\n",
    "        id='estimated-value-2022-2023',\n",
    "        figure=px.line(filtered_df.groupby('date_mutation')['valeur_fonciere'].mean().reset_index(), x='date_mutation', y='valeur_fonciere', title='Valeur Foncière Moyenne 2022-2023')\n",
    "    )\n",
    "])\n",
    "\n",
    "# Run the app\n",
    "if __name__ == '__main__':\n",
    "    app.run_server(debug=True)\n"
   ]
  },
  {
   "cell_type": "code",
   "execution_count": 27,
   "id": "369156eb-64a4-4eb1-8a8c-601c414cc026",
   "metadata": {
    "jupyter": {
     "source_hidden": true
    },
    "tags": []
   },
   "outputs": [
    {
     "data": {
      "text/html": [
       "\n",
       "        <iframe\n",
       "            width=\"100%\"\n",
       "            height=\"650\"\n",
       "            src=\"http://127.0.0.1:8050/\"\n",
       "            frameborder=\"0\"\n",
       "            allowfullscreen\n",
       "            \n",
       "        ></iframe>\n",
       "        "
      ],
      "text/plain": [
       "<IPython.lib.display.IFrame at 0x289ed6ab3d0>"
      ]
     },
     "metadata": {},
     "output_type": "display_data"
    }
   ],
   "source": [
    "from dash import Dash, html, dcc\n",
    "import pandas as pd\n",
    "import plotly.express as px\n",
    "\n",
    "# Load your data\n",
    "df = pd.read_csv('../data/dvf.csv')\n",
    "\n",
    "# Convert 'valeur_fonciere' and 'surface_reelle_bati' to float\n",
    "df['valeur_fonciere'] = pd.to_numeric(df['valeur_fonciere'], errors='coerce')\n",
    "df['surface_reelle_bati'] = pd.to_numeric(df['surface_reelle_bati'], errors='coerce')\n",
    "\n",
    "# Filter the data to include transactions for Toulouse and exclude transactions for Toulouse\n",
    "df_toulouse = df[df['nom_commune'] == 'TOULOUSE']\n",
    "df_no_toulouse = df[df['nom_commune'] != 'TOULOUSE']\n",
    "\n",
    "# Calculate the IQR for 'valeur_fonciere' for Toulouse and excluding Toulouse\n",
    "Q1_toulouse = df_toulouse['valeur_fonciere'].quantile(0.25)\n",
    "Q3_toulouse = df_toulouse['valeur_fonciere'].quantile(0.75)\n",
    "IQR_toulouse = Q3_toulouse - Q1_toulouse\n",
    "\n",
    "Q1_no_toulouse = df_no_toulouse['valeur_fonciere'].quantile(0.25)\n",
    "Q3_no_toulouse = df_no_toulouse['valeur_fonciere'].quantile(0.75)\n",
    "IQR_no_toulouse = Q3_no_toulouse - Q1_no_toulouse\n",
    "\n",
    "# Filter out outliers based on 'valeur_fonciere' for Toulouse and excluding Toulouse\n",
    "df_toulouse_filtered = df_toulouse[(df_toulouse['valeur_fonciere'] >= Q1_toulouse - 1.5 * IQR_toulouse) & (df_toulouse['valeur_fonciere'] <= Q3_toulouse + 1.5 * IQR_toulouse)]\n",
    "df_no_toulouse_filtered = df_no_toulouse[(df_no_toulouse['valeur_fonciere'] >= Q1_no_toulouse - 1.5 * IQR_no_toulouse) & (df_no_toulouse['valeur_fonciere'] <= Q3_no_toulouse + 1.5 * IQR_no_toulouse)]\n",
    "\n",
    "# Initialize the Dash app\n",
    "app = Dash(__name__)\n",
    "\n",
    "# Define the app layout\n",
    "app.layout = html.Div(children=[\n",
    "    html.H1(children='Analyse de la Valeur Foncière des Transactions Immobilières'),\n",
    "\n",
    "    dcc.Graph(\n",
    "        id='estimated-value-vs-size-all',\n",
    "        figure=px.scatter(df, x='surface_reelle_bati', y='valeur_fonciere', title='Valeur Foncière vs. Taille du Bâtiment (Toutes les Transactions)')\n",
    "    ),\n",
    "\n",
    "    dcc.Graph(\n",
    "        id='estimated-value-vs-size-toulouse',\n",
    "        figure=px.scatter(df_toulouse_filtered, x='surface_reelle_bati', y='valeur_fonciere', title='Valeur Foncière vs. Taille du Bâtiment à Toulouse (Sans Valeurs Aberrantes)')\n",
    "    ),\n",
    "\n",
    "    dcc.Graph(\n",
    "        id='estimated-value-vs-size-no-toulouse',\n",
    "        figure=px.scatter(df_no_toulouse_filtered, x='surface_reelle_bati', y='valeur_fonciere', title='Valeur Foncière vs. Taille du Bâtiment Hors Toulouse (Sans Valeurs Aberrantes)')\n",
    "    )\n",
    "])\n",
    "\n",
    "# Run the app\n",
    "if __name__ == '__main__':\n",
    "    app.run_server(debug=True)\n"
   ]
  },
  {
   "cell_type": "code",
   "execution_count": 2,
   "id": "32ec4947-cb43-4b83-97f2-ff1b96160697",
   "metadata": {
    "collapsed": true,
    "jupyter": {
     "outputs_hidden": true,
     "source_hidden": true
    },
    "tags": []
   },
   "outputs": [
    {
     "data": {
      "text/html": [
       "\n",
       "        <iframe\n",
       "            width=\"100%\"\n",
       "            height=\"650\"\n",
       "            src=\"http://127.0.0.1:8050/\"\n",
       "            frameborder=\"0\"\n",
       "            allowfullscreen\n",
       "            \n",
       "        ></iframe>\n",
       "        "
      ],
      "text/plain": [
       "<IPython.lib.display.IFrame at 0x17f20ddc210>"
      ]
     },
     "metadata": {},
     "output_type": "display_data"
    }
   ],
   "source": [
    "from dash import Dash, html, dcc\n",
    "import pandas as pd\n",
    "import plotly.express as px\n",
    "\n",
    "# Load your data\n",
    "df = pd.read_csv('../data/dvf.csv')\n",
    "\n",
    "# Convert 'date_mutation' to datetime and 'valeur_fonciere' to float\n",
    "df['date_mutation'] = pd.to_datetime(df['date_mutation'])\n",
    "df['valeur_fonciere'] = pd.to_numeric(df['valeur_fonciere'], errors='coerce')\n",
    "\n",
    "# Extract month and year for grouping\n",
    "df['year_month'] = df['date_mutation'].dt.to_period('M')\n",
    "\n",
    "# Initialize the Dash app\n",
    "app = Dash(__name__)\n",
    "\n",
    "# Define the app layout\n",
    "app.layout = html.Div(children=[\n",
    "    html.H1(children='Analyse de la Valeur Foncière des Transactions Immobilières'),\n",
    "    \n",
    "\n",
    "    dcc.Graph(\n",
    "        id='estimated-value-over-time',\n",
    "        figure=px.line(\n",
    "            df.groupby(['year_month', 'type_local'])['valeur_fonciere'].mean().reset_index(), \n",
    "            x='year_month', \n",
    "            y='valeur_fonciere', \n",
    "            color='type_local',\n",
    "            title='Valeur Foncière Moyenne au Fil du Temps par Type de Bien'\n",
    "        )\n",
    "    ),\n",
    "\n",
    "    dcc.Graph(\n",
    "        id='estimated-value-by-commune',\n",
    "        figure=px.bar(\n",
    "            df.groupby('nom_commune')['valeur_fonciere'].mean().reset_index(), \n",
    "            x='nom_commune', \n",
    "            y='valeur_fonciere', \n",
    "            title='Valeur Foncière Moyenne par Commune'\n",
    "        )\n",
    "    )\n",
    "])\n",
    "\n",
    "# Run the app\n",
    "if __name__ == '__main__':\n",
    "    app.run_server(debug=True)\n"
   ]
  },
  {
   "cell_type": "code",
   "execution_count": 7,
   "id": "871694a5-9433-437b-8a07-347f9aac92c3",
   "metadata": {
    "jupyter": {
     "source_hidden": true
    },
    "tags": []
   },
   "outputs": [
    {
     "name": "stderr",
     "output_type": "stream",
     "text": [
      "C:\\Users\\maxen\\anaconda3\\Lib\\site-packages\\_plotly_utils\\basevalidators.py:106: FutureWarning:\n",
      "\n",
      "The behavior of DatetimeProperties.to_pydatetime is deprecated, in a future version this will return a Series containing python datetime objects instead of an ndarray. To retain the old behavior, call `np.array` on the result\n",
      "\n"
     ]
    },
    {
     "data": {
      "text/html": [
       "\n",
       "        <iframe\n",
       "            width=\"100%\"\n",
       "            height=\"650\"\n",
       "            src=\"http://127.0.0.1:8050/\"\n",
       "            frameborder=\"0\"\n",
       "            allowfullscreen\n",
       "            \n",
       "        ></iframe>\n",
       "        "
      ],
      "text/plain": [
       "<IPython.lib.display.IFrame at 0x214184aeb50>"
      ]
     },
     "metadata": {},
     "output_type": "display_data"
    }
   ],
   "source": [
    "from dash import Dash, html, dash_table, dcc, callback, Output, Input\n",
    "import pandas as pd\n",
    "import plotly.express as px\n",
    "\n",
    "# Load your data\n",
    "df = pd.read_csv('../data/dvf.csv')\n",
    "\n",
    "# Convert 'date_mutation' to datetime\n",
    "df['date_mutation'] = pd.to_datetime(df['date_mutation'])\n",
    "\n",
    "# Initialize the Dash app\n",
    "app = Dash(__name__)\n",
    "\n",
    "# Define the app layout\n",
    "app.layout = html.Div(children=[\n",
    "    html.H1(children='Analyse des Transactions Immobilières'),\n",
    "\n",
    "    dcc.Graph(\n",
    "        id='transaction-count-over-time',\n",
    "        figure=px.line(df.groupby('date_mutation').size().reset_index(name='count'), x='date_mutation', y='count', title='Nombre de Transactions au Fil du Temps')\n",
    "    ),\n",
    "\n",
    "    dcc.Graph(\n",
    "        id='transaction-count-by-commune',\n",
    "        figure=px.bar(df['nom_commune'].value_counts().reset_index(), x='nom_commune', y='count', title='Nombre de Transactions par Commune')\n",
    "    )\n",
    "])\n",
    "\n",
    "# Run the app\n",
    "if __name__ == '__main__':\n",
    "    app.run_server(debug=True)\n"
   ]
  },
  {
   "cell_type": "code",
   "execution_count": 10,
   "id": "e56e5bc9-acec-4672-95af-35da5baa21a2",
   "metadata": {
    "collapsed": true,
    "jupyter": {
     "outputs_hidden": true,
     "source_hidden": true
    },
    "tags": []
   },
   "outputs": [
    {
     "data": {
      "text/html": [
       "\n",
       "        <iframe\n",
       "            width=\"100%\"\n",
       "            height=\"650\"\n",
       "            src=\"http://127.0.0.1:8050/\"\n",
       "            frameborder=\"0\"\n",
       "            allowfullscreen\n",
       "            \n",
       "        ></iframe>\n",
       "        "
      ],
      "text/plain": [
       "<IPython.lib.display.IFrame at 0x2140567bd50>"
      ]
     },
     "metadata": {},
     "output_type": "display_data"
    }
   ],
   "source": [
    "from dash import Dash, html, dcc\n",
    "import pandas as pd\n",
    "import plotly.express as px\n",
    "\n",
    "# Load your data\n",
    "df = pd.read_csv('../data/dvf.csv')\n",
    "\n",
    "# Convert 'date_mutation' to datetime and 'valeur_fonciere' to float\n",
    "df['date_mutation'] = pd.to_datetime(df['date_mutation'], errors='coerce')\n",
    "df['valeur_fonciere'] = pd.to_numeric(df['valeur_fonciere'], errors='coerce')\n",
    "\n",
    "# Filter out rows with NaN values in 'date_mutation' or 'valeur_fonciere'\n",
    "df = df.dropna(subset=['date_mutation', 'valeur_fonciere'])\n",
    "\n",
    "# Extract month and year for grouping\n",
    "df['year_month'] = df['date_mutation'].dt.to_period('M').astype(str)\n",
    "\n",
    "# Count transactions by type_local and year_month\n",
    "transaction_counts = df.groupby(['year_month', 'type_local']).size().reset_index(name='transaction_count')\n",
    "\n",
    "# Calculate average property value by type_local and year_month\n",
    "average_values = df.groupby(['year_month', 'type_local'])['valeur_fonciere'].mean().reset_index()\n",
    "\n",
    "# Initialize the Dash app\n",
    "app = Dash(__name__)\n",
    "\n",
    "# Define the app layout\n",
    "app.layout = html.Div(children=[\n",
    "    html.H1(children='Analyse des Transactions Immobilières'),\n",
    "\n",
    "    dcc.Graph(\n",
    "        id='transaction-count-over-time',\n",
    "        figure=px.line(\n",
    "            transaction_counts,\n",
    "            x='year_month',\n",
    "            y='transaction_count',\n",
    "            color='type_local',\n",
    "            title='Nombre de Transactions au Fil du Temps par Type de Bien'\n",
    "        )\n",
    "    ),\n",
    "\n",
    "    dcc.Graph(\n",
    "        id='estimated-value-over-time',\n",
    "        figure=px.line(\n",
    "            average_values,\n",
    "            x='year_month',\n",
    "            y='valeur_fonciere',\n",
    "            color='type_local',\n",
    "            title='Valeur Foncière Moyenne au Fil du Temps par Type de Bien'\n",
    "        )\n",
    "    ),\n",
    "])\n",
    "\n",
    "# Run the app\n",
    "if __name__ == '__main__':\n",
    "    app.run_server(debug=True)\n"
   ]
  },
  {
   "cell_type": "code",
   "execution_count": null,
   "id": "6c20101e-6d14-48db-b0b1-6ce2456c1e90",
   "metadata": {},
   "outputs": [],
   "source": []
  },
  {
   "cell_type": "code",
   "execution_count": 24,
   "id": "30b96e57-745e-4cbb-b007-5dc0388b40b8",
   "metadata": {},
   "outputs": [
    {
     "name": "stderr",
     "output_type": "stream",
     "text": [
      "C:\\Users\\maxen\\anaconda3\\Lib\\site-packages\\_plotly_utils\\basevalidators.py:106: FutureWarning:\n",
      "\n",
      "The behavior of DatetimeProperties.to_pydatetime is deprecated, in a future version this will return a Series containing python datetime objects instead of an ndarray. To retain the old behavior, call `np.array` on the result\n",
      "\n"
     ]
    },
    {
     "data": {
      "text/html": [
       "\n",
       "        <iframe\n",
       "            width=\"100%\"\n",
       "            height=\"650\"\n",
       "            src=\"http://127.0.0.1:8050/\"\n",
       "            frameborder=\"0\"\n",
       "            allowfullscreen\n",
       "            \n",
       "        ></iframe>\n",
       "        "
      ],
      "text/plain": [
       "<IPython.lib.display.IFrame at 0x21418516ed0>"
      ]
     },
     "metadata": {},
     "output_type": "display_data"
    }
   ],
   "source": [
    "from dash import Dash, html, dcc\n",
    "import pandas as pd\n",
    "import plotly.express as px\n",
    "\n",
    "# Load your data\n",
    "df = pd.read_csv('../data/dvf.csv')\n",
    "\n",
    "# Convert 'date_mutation' to datetime and 'valeur_fonciere' to float\n",
    "df['date_mutation'] = pd.to_datetime(df['date_mutation'], errors='coerce')\n",
    "df['valeur_fonciere'] = pd.to_numeric(df['valeur_fonciere'], errors='coerce')\n",
    "\n",
    "# Filter out rows with NaN values in 'date_mutation' or 'valeur_fonciere'\n",
    "df = df.dropna(subset=['date_mutation', 'valeur_fonciere'])\n",
    "\n",
    "# Filter data for 2022 and 2023\n",
    "filtered_df = df[(df['date_mutation'].dt.year == 2022) | (df['date_mutation'].dt.year == 2023)]\n",
    "\n",
    "# Extract month and year for grouping\n",
    "df['year_month'] = df['date_mutation'].dt.to_period('M').astype(str)\n",
    "\n",
    "# Count transactions by type_local and year_month\n",
    "transaction_counts = df.groupby(['year_month', 'type_local']).size().reset_index(name='transaction_count')\n",
    "\n",
    "# Calculate average property value by type_local and year_month\n",
    "average_values = df.groupby(['year_month', 'type_local'])['valeur_fonciere'].mean().reset_index()\n",
    "\n",
    "# Count transactions by commune\n",
    "transaction_counts_by_commune = df['nom_commune'].value_counts().reset_index(name='count').rename(columns={'index': 'nom_commune'})\n",
    "\n",
    "# Initialize the Dash app\n",
    "app = Dash(__name__)\n",
    "\n",
    "# Define the app layout\n",
    "app.layout = html.Div(children=[\n",
    "    html.H1(children='Analyse des Transactions Immobilières'),\n",
    "\n",
    "    dcc.Graph(\n",
    "        id='transaction-count-over-time',\n",
    "        figure=px.line(\n",
    "            transaction_counts,\n",
    "            x='year_month',\n",
    "            y='transaction_count',\n",
    "            color='type_local',\n",
    "            title='Nombre de Transactions au Fil du Temps par Type de Bien'\n",
    "        )\n",
    "    ),\n",
    "\n",
    "    dcc.Graph(\n",
    "        id='estimated-value-over-time',\n",
    "        figure=px.line(\n",
    "            average_values,\n",
    "            x='year_month',\n",
    "            y='valeur_fonciere',\n",
    "            color='type_local',\n",
    "            title='Valeur Foncière Moyenne au Fil du Temps par Type de Bien'\n",
    "        )\n",
    "    ),\n",
    "    \n",
    "    dcc.Graph(\n",
    "        id='transaction-count-by-commune',\n",
    "        figure=px.bar(\n",
    "            transaction_counts_by_commune,\n",
    "            x='nom_commune',\n",
    "            y='count',\n",
    "            title='Nombre de Transactions par Commune',\n",
    "            orientation='h'\n",
    "        ).update_layout(height=800)\n",
    "    ),\n",
    "\n",
    "    dcc.Graph(\n",
    "        id='estimated-value-2022-2023',\n",
    "        figure=px.line(\n",
    "            filtered_df.groupby('date_mutation')['valeur_fonciere'].mean().reset_index(),\n",
    "            x='date_mutation',\n",
    "            y='valeur_fonciere',\n",
    "            title='Valeur Foncière Moyenne 2022-2023'\n",
    "        )\n",
    "    )\n",
    "])\n",
    "\n",
    "# Run the app\n",
    "if __name__ == '__main__':\n",
    "    app.run_server(debug=True)\n"
   ]
  },
  {
   "cell_type": "code",
   "execution_count": null,
   "id": "fd662905-9bb7-4112-8fad-d63b03cbd64a",
   "metadata": {},
   "outputs": [],
   "source": []
  }
 ],
 "metadata": {
  "kernelspec": {
   "display_name": "Python 3 (ipykernel)",
   "language": "python",
   "name": "python3"
  },
  "language_info": {
   "codemirror_mode": {
    "name": "ipython",
    "version": 3
   },
   "file_extension": ".py",
   "mimetype": "text/x-python",
   "name": "python",
   "nbconvert_exporter": "python",
   "pygments_lexer": "ipython3",
   "version": "3.11.5"
  }
 },
 "nbformat": 4,
 "nbformat_minor": 5
}
