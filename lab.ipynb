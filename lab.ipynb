{
 "cells": [
  {
   "cell_type": "code",
   "execution_count": 1,
   "metadata": {},
   "outputs": [],
   "source": [
    "import pandas as pd\n",
    "import numpy as np\n",
    "import matplotlib.pyplot as plt\n",
    "\n",
    "from util import *"
   ]
  },
  {
   "cell_type": "code",
   "execution_count": 2,
   "metadata": {},
   "outputs": [],
   "source": [
    "df = load_df('data/dvf.csv')"
   ]
  },
  {
   "cell_type": "markdown",
   "metadata": {},
   "source": [
    "- raw: 121546\n",
    "- dropna: 121334 (-212)"
   ]
  },
  {
   "cell_type": "code",
   "execution_count": 3,
   "metadata": {},
   "outputs": [
    {
     "data": {
      "text/plain": [
       "0         175000.0\n",
       "1              1.0\n",
       "2         320299.0\n",
       "3          56500.0\n",
       "5              NaN\n",
       "            ...   \n",
       "394983     84000.0\n",
       "394985     45000.0\n",
       "394986      2726.0\n",
       "394996    135000.0\n",
       "394999    371000.0\n",
       "Name: valeur_fonciere, Length: 121546, dtype: float64"
      ]
     },
     "execution_count": 3,
     "metadata": {},
     "output_type": "execute_result"
    }
   ],
   "source": [
    "df['valeur_fonciere']"
   ]
  },
  {
   "cell_type": "code",
   "execution_count": 4,
   "metadata": {},
   "outputs": [
    {
     "data": {
      "text/plain": [
       "0         175000.0\n",
       "1              1.0\n",
       "2         320299.0\n",
       "3          56500.0\n",
       "6         252792.0\n",
       "            ...   \n",
       "394983     84000.0\n",
       "394985     45000.0\n",
       "394986      2726.0\n",
       "394996    135000.0\n",
       "394999    371000.0\n",
       "Name: valeur_fonciere, Length: 121334, dtype: float64"
      ]
     },
     "execution_count": 4,
     "metadata": {},
     "output_type": "execute_result"
    }
   ],
   "source": [
    "df['valeur_fonciere'].dropna()"
   ]
  },
  {
   "cell_type": "code",
   "execution_count": 8,
   "metadata": {},
   "outputs": [
    {
     "data": {
      "text/plain": [
       "47253      400.0\n",
       "140554       1.0\n",
       "34589      100.0\n",
       "152937       1.0\n",
       "242571    1000.0\n",
       "51890        1.0\n",
       "348507     500.0\n",
       "311653     600.0\n",
       "300147       1.0\n",
       "51621      700.0\n",
       "Name: valeur_fonciere, dtype: float64"
      ]
     },
     "execution_count": 8,
     "metadata": {},
     "output_type": "execute_result"
    }
   ],
   "source": [
    "df['valeur_fonciere'].dropna()[df['valeur_fonciere'] < 1100].sample(10)"
   ]
  },
  {
   "cell_type": "code",
   "execution_count": 19,
   "metadata": {},
   "outputs": [
    {
     "data": {
      "text/plain": [
       "8                     sols\n",
       "143                   sols\n",
       "156                   sols\n",
       "175                   sols\n",
       "185                   sols\n",
       "                ...       \n",
       "375051                sols\n",
       "375061    terrains a bâtir\n",
       "375089    terrains a bâtir\n",
       "375092                sols\n",
       "375138                sols\n",
       "Name: nature_culture, Length: 5049, dtype: object"
      ]
     },
     "execution_count": 19,
     "metadata": {},
     "output_type": "execute_result"
    }
   ],
   "source": [
    "df[df['nom_commune'] == 'Toulouse']['nature_culture'].dropna()"
   ]
  },
  {
   "cell_type": "code",
   "execution_count": 13,
   "metadata": {},
   "outputs": [
    {
     "data": {
      "text/plain": [
       "0                  terres\n",
       "1                    sols\n",
       "2                  terres\n",
       "3                  terres\n",
       "5                  landes\n",
       "               ...       \n",
       "394983               sols\n",
       "394985                NaN\n",
       "394986    taillis simples\n",
       "394996                NaN\n",
       "394999               sols\n",
       "Name: nature_culture, Length: 121546, dtype: object"
      ]
     },
     "execution_count": 13,
     "metadata": {},
     "output_type": "execute_result"
    }
   ],
   "source": [
    "df['nature_culture']"
   ]
  },
  {
   "cell_type": "code",
   "execution_count": 9,
   "metadata": {},
   "outputs": [
    {
     "data": {
      "text/plain": [
       "id_mutation                             2020-413349\n",
       "date_mutation                   2020-01-02 00:00:00\n",
       "numero_disposition                                2\n",
       "nature_mutation                               Vente\n",
       "valeur_fonciere                              1000.0\n",
       "adresse_numero                                  NaN\n",
       "adresse_suffixe                                 NaN\n",
       "adresse_nom_voie                             VIATES\n",
       "adresse_code_voie                              B048\n",
       "code_postal                                   31210\n",
       "code_commune                                  31426\n",
       "nom_commune                      Pointis-de-Rivière\n",
       "code_departement                                 31\n",
       "ancien_code_commune                             NaN\n",
       "ancien_nom_commune                              NaN\n",
       "id_parcelle                          31426000ZC0029\n",
       "ancien_id_parcelle                              NaN\n",
       "numero_volume                                   NaN\n",
       "lot1_numero                                     NaN\n",
       "lot1_surface_carrez                             NaN\n",
       "lot2_numero                                     NaN\n",
       "lot2_surface_carrez                             NaN\n",
       "lot3_numero                                     NaN\n",
       "lot3_surface_carrez                             NaN\n",
       "lot4_numero                                     NaN\n",
       "lot4_surface_carrez                             NaN\n",
       "lot5_numero                                     NaN\n",
       "lot5_surface_carrez                             NaN\n",
       "nombre_lots                                       0\n",
       "code_type_local                                 NaN\n",
       "type_local                                      NaN\n",
       "surface_reelle_bati                             NaN\n",
       "nombre_pieces_principales                       NaN\n",
       "code_nature_culture                               T\n",
       "nature_culture                               terres\n",
       "code_nature_culture_speciale                    NaN\n",
       "nature_culture_speciale                         NaN\n",
       "surface_terrain                              2454.0\n",
       "longitude                                  0.608228\n",
       "latitude                                   43.08492\n",
       "section_prefixe                               000ZC\n",
       "Name: 242571, dtype: object"
      ]
     },
     "execution_count": 9,
     "metadata": {},
     "output_type": "execute_result"
    }
   ],
   "source": [
    "df.loc[242571]"
   ]
  }
 ],
 "metadata": {
  "kernelspec": {
   "display_name": ".venv",
   "language": "python",
   "name": "python3"
  },
  "language_info": {
   "codemirror_mode": {
    "name": "ipython",
    "version": 3
   },
   "file_extension": ".py",
   "mimetype": "text/x-python",
   "name": "python",
   "nbconvert_exporter": "python",
   "pygments_lexer": "ipython3",
   "version": "3.12.3"
  }
 },
 "nbformat": 4,
 "nbformat_minor": 2
}
